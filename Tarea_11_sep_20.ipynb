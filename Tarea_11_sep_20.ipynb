{
  "nbformat": 4,
  "nbformat_minor": 0,
  "metadata": {
    "colab": {
      "name": "Tarea-11/sep/20.ipynb",
      "provenance": []
    },
    "kernelspec": {
      "name": "python3",
      "display_name": "Python 3"
    }
  },
  "cells": [
    {
      "cell_type": "code",
      "metadata": {
        "id": "oGcMtBGmkz81",
        "colab_type": "code",
        "colab": {}
      },
      "source": [
        ""
      ],
      "execution_count": null,
      "outputs": []
    },
    {
      "cell_type": "markdown",
      "metadata": {
        "id": "OsvLAjJik7JL",
        "colab_type": "text"
      },
      "source": [
        "![FotoCV](https://www.up.edu.mx/sites/default/files//styles/g_9col/public/noticias/unnamed_7_0.jpg?itok=jlIR1RWz)\n",
        "# **David Vidaña Zavala**\n",
        "Ingeniero diseñador de producto.\n",
        "\n",
        "### **Perfil:** \n",
        "**Ingeniero Diseñador** en *APR & Design SC*, dedicado a diseño y desarrollo de gadgets tecnológicos.\n",
        "\n",
        "**Profesor de asignatura** en materias de historia del diseño y estrategias de innovación, adscrito a la Academia de Diseño e Innovación, Facultad de Ingeniería, Universidad Panamericana, Campus Guadalajara.\n",
        "\n",
        "**Ganador del** ***Silver Star Award 2018*** *StarPack Students* 2018, por innovación en diseño de empaque en la categoría: Motor Oil Dispensing Pack (5 Litres), Mismo que obtuvo mención honorífica por la World Packaging Organisation en 2018.\n",
        "\n",
        "### **Ultimo proyecto:** \n",
        "[Dauik-19](https://www.behance.net/gallery/102617983/Dauik-19)\n",
        "\n",
        "### **Formación académica:** \n",
        "\n",
        "- **Especialidad en Diseño y Tecnología**, Universidad Panamericana, Campus Guadalajara, *2018-2019*.\n",
        "\n",
        "- **Ingeniería en Innovación y Diseño**, Universidad Panamericana, Campus Guadalajara, *2014-2018*.\n",
        "\n",
        "### **Certificado en programas como:** \n",
        "\n",
        "| Programa | Certificación| Experiencia en:|\n",
        "| ----------- | ----------- |-----------|\n",
        "|**SolidWorks**|Nivel Asociado|Sólidos, Superficies y Simulación|\n",
        "|**Rhinoceros**|En Diseño y fabricación digital|Diseño paramétrico en Grasshopper|\n",
        "|**Fusion 360**||Modelado, Simulación y Diseño Generativo|\n",
        "\n",
        "### **Lenguajes de programación:** \n",
        "\n",
        "| Lenguaje | Experiencia| \n",
        "| ----------- | ----------- |\n",
        "|**Python**|Básico|\n",
        "\n",
        "\n",
        "## **Gracias por su atención**\n"
      ]
    }
  ]
}